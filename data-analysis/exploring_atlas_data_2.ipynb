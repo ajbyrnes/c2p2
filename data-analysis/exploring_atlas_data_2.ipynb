{
 "cells": [
  {
   "cell_type": "code",
   "execution_count": null,
   "id": "a6203468",
   "metadata": {},
   "outputs": [],
   "source": [
    "import uproot\n",
    "\n",
    "import numpy as np\n",
    "import awkward as ak\n",
    "\n",
    "import pandas as pd\n",
    "\n",
    "import plotly.express as px\n",
    "import plotly.graph_objects as go\n",
    "import plotly.io as pio"
   ]
  },
  {
   "cell_type": "code",
   "execution_count": null,
   "id": "e359ff6d",
   "metadata": {},
   "outputs": [],
   "source": [
    "rootfile = '/home/abyrnes/data/atlas/4lep/data_D.4lep.root'\n",
    "topofile = '/home/abyrnes/data/plotly/'\n",
    "largfile = '/home/abyrnes/data/atlas/mc_361106.Zee.1largeRjet1lep.root'"
   ]
  },
  {
   "cell_type": "code",
   "execution_count": null,
   "id": "10ad5ea8",
   "metadata": {},
   "outputs": [],
   "source": [
    "largtree = uproot.open(largfile)['mini']\n",
    "largtree.show()"
   ]
  },
  {
   "cell_type": "code",
   "execution_count": null,
   "id": "041dc690",
   "metadata": {},
   "outputs": [],
   "source": [
    "largtree['lep_pt'].array()"
   ]
  },
  {
   "cell_type": "code",
   "execution_count": null,
   "id": "7dcdacf9",
   "metadata": {},
   "outputs": [],
   "source": [
    "ak.flatten(largtree['lep_pt'].array())"
   ]
  },
  {
   "cell_type": "code",
   "execution_count": null,
   "id": "73d22252",
   "metadata": {},
   "outputs": [],
   "source": [
    "field = 'lep_pt'\n",
    "field_array = largtree[field].array()\n",
    "field_flat = ak.flatten(largtree[field].array())\n",
    "event_indices = [[i] * len(field_array[i]) for i in range(len(field_array))]\n",
    "event_indices_flat = ak.flatten(event_indices)\n",
    "event_indices_flat_str = [ str(i) for i in event_indices_flat ]"
   ]
  },
  {
   "cell_type": "code",
   "execution_count": null,
   "metadata": {},
   "outputs": [],
   "source": [
    "fig = go.Figure(\n",
    "    data = [\n",
    "        go.Scattergl(\n",
    "            x = event_indices_flat,\n",
    "            y = field_flat,\n",
    "            mode = 'markers',\n",
    "            marker = dict(\n",
    "                size = 20,\n",
    "                symbol = 'line-ew',\n",
    "                color = event_indices_flat,\n",
    "                colorscale = 'agsunset',\n",
    "                showscale = True,\n",
    "                colorbar = dict(\n",
    "                    title = 'Lep Pt'\n",
    "                )\n",
    "            ),\n",
    "        )\n",
    "    ]\n",
    ")\n",
    "\n",
    "fig.show()\n"
   ]
  }
 ],
 "metadata": {
  "kernelspec": {
   "display_name": "env",
   "language": "python",
   "name": "python3"
  },
  "language_info": {
   "codemirror_mode": {
    "name": "ipython",
    "version": 3
   },
   "file_extension": ".py",
   "mimetype": "text/x-python",
   "name": "python",
   "nbconvert_exporter": "python",
   "pygments_lexer": "ipython3",
   "version": "3.13.3"
  }
 },
 "nbformat": 4,
 "nbformat_minor": 5
}
