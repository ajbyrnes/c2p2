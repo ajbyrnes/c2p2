{
 "cells": [
  {
   "cell_type": "code",
   "execution_count": 1,
   "id": "055b06fb",
   "metadata": {},
   "outputs": [],
   "source": [
    "import uproot\n",
    "\n",
    "import numpy as np\n",
    "import awkward as ak\n",
    "\n",
    "import pandas as pd\n",
    "\n",
    "import plotly.express as px\n",
    "import plotly.graph_objects as go\n",
    "import plotly.io as pio"
   ]
  },
  {
   "cell_type": "markdown",
   "id": "276d6804",
   "metadata": {},
   "source": [
    "# File locations"
   ]
  },
  {
   "cell_type": "code",
   "execution_count": 2,
   "id": "8a0c0478",
   "metadata": {},
   "outputs": [],
   "source": [
    "datadir = '/home/abelo/data'\n",
    "filepath = datadir + '/atlas/mc_361106.Zee.1largeRjet1lep.root'"
   ]
  },
  {
   "cell_type": "markdown",
   "id": "991bfe2a",
   "metadata": {},
   "source": [
    "# Tree listing"
   ]
  },
  {
   "cell_type": "code",
   "execution_count": 3,
   "id": "466876ae",
   "metadata": {},
   "outputs": [
    {
     "name": "stdout",
     "output_type": "stream",
     "text": [
      "name                 | typename                 | interpretation                \n",
      "---------------------+--------------------------+-------------------------------\n",
      "runNumber            | int32_t                  | AsDtype('>i4')\n",
      "eventNumber          | int32_t                  | AsDtype('>i4')\n",
      "channelNumber        | int32_t                  | AsDtype('>i4')\n",
      "mcWeight             | float                    | AsDtype('>f4')\n",
      "scaleFactor_PILEUP   | float                    | AsDtype('>f4')\n",
      "scaleFactor_ELE      | float                    | AsDtype('>f4')\n",
      "scaleFactor_MUON     | float                    | AsDtype('>f4')\n",
      "scaleFactor_PHOTON   | float                    | AsDtype('>f4')\n",
      "scaleFactor_TAU      | float                    | AsDtype('>f4')\n",
      "scaleFactor_BTAG     | float                    | AsDtype('>f4')\n",
      "scaleFactor_LepTR... | float                    | AsDtype('>f4')\n",
      "scaleFactor_Photo... | float                    | AsDtype('>f4')\n",
      "trigE                | bool                     | AsDtype('bool')\n",
      "trigM                | bool                     | AsDtype('bool')\n",
      "trigP                | bool                     | AsDtype('bool')\n",
      "lep_n                | uint32_t                 | AsDtype('>u4')\n",
      "lep_truthMatched     | std::vector<bool>        | AsJagged(AsDtype('bool'), h...\n",
      "lep_trigMatched      | std::vector<bool>        | AsJagged(AsDtype('bool'), h...\n",
      "lep_pt               | std::vector<float>       | AsJagged(AsDtype('>f4'), he...\n",
      "lep_eta              | std::vector<float>       | AsJagged(AsDtype('>f4'), he...\n",
      "lep_phi              | std::vector<float>       | AsJagged(AsDtype('>f4'), he...\n",
      "lep_E                | std::vector<float>       | AsJagged(AsDtype('>f4'), he...\n",
      "lep_z0               | std::vector<float>       | AsJagged(AsDtype('>f4'), he...\n",
      "lep_charge           | std::vector<int32_t>     | AsJagged(AsDtype('>i4'), he...\n",
      "lep_type             | std::vector<uint32_t>    | AsJagged(AsDtype('>u4'), he...\n",
      "lep_isTightID        | std::vector<bool>        | AsJagged(AsDtype('bool'), h...\n",
      "lep_ptcone30         | std::vector<float>       | AsJagged(AsDtype('>f4'), he...\n",
      "lep_etcone20         | std::vector<float>       | AsJagged(AsDtype('>f4'), he...\n",
      "lep_trackd0pvunbi... | std::vector<float>       | AsJagged(AsDtype('>f4'), he...\n",
      "lep_tracksigd0pvu... | std::vector<float>       | AsJagged(AsDtype('>f4'), he...\n",
      "met_et               | float                    | AsDtype('>f4')\n",
      "met_phi              | float                    | AsDtype('>f4')\n",
      "jet_n                | uint32_t                 | AsDtype('>u4')\n",
      "jet_pt               | std::vector<float>       | AsJagged(AsDtype('>f4'), he...\n",
      "jet_eta              | std::vector<float>       | AsJagged(AsDtype('>f4'), he...\n",
      "jet_phi              | std::vector<float>       | AsJagged(AsDtype('>f4'), he...\n",
      "jet_E                | std::vector<float>       | AsJagged(AsDtype('>f4'), he...\n",
      "jet_jvt              | std::vector<float>       | AsJagged(AsDtype('>f4'), he...\n",
      "jet_trueflav         | std::vector<int32_t>     | AsJagged(AsDtype('>i4'), he...\n",
      "jet_truthMatched     | std::vector<bool>        | AsJagged(AsDtype('bool'), h...\n",
      "jet_MV2c10           | std::vector<float>       | AsJagged(AsDtype('>f4'), he...\n",
      "photon_n             | uint32_t                 | AsDtype('>u4')\n",
      "photon_truthMatched  | std::vector<bool>        | AsJagged(AsDtype('bool'), h...\n",
      "photon_trigMatched   | std::vector<bool>        | AsJagged(AsDtype('bool'), h...\n",
      "photon_pt            | std::vector<float>       | AsJagged(AsDtype('>f4'), he...\n",
      "photon_eta           | std::vector<float>       | AsJagged(AsDtype('>f4'), he...\n",
      "photon_phi           | std::vector<float>       | AsJagged(AsDtype('>f4'), he...\n",
      "photon_E             | std::vector<float>       | AsJagged(AsDtype('>f4'), he...\n",
      "photon_isTightID     | std::vector<bool>        | AsJagged(AsDtype('bool'), h...\n",
      "photon_ptcone30      | std::vector<float>       | AsJagged(AsDtype('>f4'), he...\n",
      "photon_etcone20      | std::vector<float>       | AsJagged(AsDtype('>f4'), he...\n",
      "photon_convType      | std::vector<int32_t>     | AsJagged(AsDtype('>i4'), he...\n",
      "tau_n                | uint32_t                 | AsDtype('>u4')\n",
      "tau_pt               | std::vector<float>       | AsJagged(AsDtype('>f4'), he...\n",
      "tau_eta              | std::vector<float>       | AsJagged(AsDtype('>f4'), he...\n",
      "tau_phi              | std::vector<float>       | AsJagged(AsDtype('>f4'), he...\n",
      "tau_E                | std::vector<float>       | AsJagged(AsDtype('>f4'), he...\n",
      "tau_isTightID        | std::vector<bool>        | AsJagged(AsDtype('bool'), h...\n",
      "tau_truthMatched     | std::vector<bool>        | AsJagged(AsDtype('bool'), h...\n",
      "tau_trigMatched      | std::vector<bool>        | AsJagged(AsDtype('bool'), h...\n",
      "tau_nTracks          | std::vector<int32_t>     | AsJagged(AsDtype('>i4'), he...\n",
      "tau_BDTid            | std::vector<float>       | AsJagged(AsDtype('>f4'), he...\n",
      "ditau_m              | float                    | AsDtype('>f4')\n",
      "lep_pt_syst          | std::vector<float>       | AsJagged(AsDtype('>f4'), he...\n",
      "met_et_syst          | float                    | AsDtype('>f4')\n",
      "jet_pt_syst          | std::vector<float>       | AsJagged(AsDtype('>f4'), he...\n",
      "photon_pt_syst       | std::vector<float>       | AsJagged(AsDtype('>f4'), he...\n",
      "tau_pt_syst          | std::vector<float>       | AsJagged(AsDtype('>f4'), he...\n",
      "XSection             | float                    | AsDtype('>f4')\n",
      "SumWeights           | float                    | AsDtype('>f4')\n",
      "largeRjet_n          | uint32_t                 | AsDtype('>u4')\n",
      "largeRjet_pt         | std::vector<float>       | AsJagged(AsDtype('>f4'), he...\n",
      "largeRjet_eta        | std::vector<float>       | AsJagged(AsDtype('>f4'), he...\n",
      "largeRjet_phi        | std::vector<float>       | AsJagged(AsDtype('>f4'), he...\n",
      "largeRjet_E          | std::vector<float>       | AsJagged(AsDtype('>f4'), he...\n",
      "largeRjet_m          | std::vector<float>       | AsJagged(AsDtype('>f4'), he...\n",
      "largeRjet_truthMa... | std::vector<float>       | AsJagged(AsDtype('>f4'), he...\n",
      "largeRjet_D2         | std::vector<float>       | AsJagged(AsDtype('>f4'), he...\n",
      "largeRjet_tau32      | std::vector<float>       | AsJagged(AsDtype('>f4'), he...\n",
      "largeRjet_pt_syst    | std::vector<float>       | AsJagged(AsDtype('>f4'), he...\n",
      "tau_charge           | std::vector<int32_t>     | AsJagged(AsDtype('>i4'), he...\n"
     ]
    }
   ],
   "source": [
    "tree = uproot.open(filepath)['mini']\n",
    "tree.show()"
   ]
  },
  {
   "cell_type": "markdown",
   "id": "6118c498",
   "metadata": {},
   "source": [
    "# Picking out branches with floats"
   ]
  },
  {
   "cell_type": "code",
   "execution_count": 4,
   "id": "cc6fa15b",
   "metadata": {},
   "outputs": [
    {
     "name": "stdout",
     "output_type": "stream",
     "text": [
      "int32\n",
      "1\n"
     ]
    }
   ],
   "source": [
    "# int32 branch\n",
    "print(tree['runNumber'].array().type.content)\n",
    "print(tree['runNumber'].array().ndim)"
   ]
  },
  {
   "cell_type": "code",
   "execution_count": 5,
   "id": "a5137ad2",
   "metadata": {},
   "outputs": [
    {
     "name": "stdout",
     "output_type": "stream",
     "text": [
      "var * float32\n",
      "float32\n",
      "2\n"
     ]
    }
   ],
   "source": [
    "# std::vector<float> branch\n",
    "print(tree['lep_pt_syst'].array().type.content)\n",
    "print(tree['lep_pt_syst'].array().type.content.content)\n",
    "print(tree['lep_pt_syst'].array().ndim)"
   ]
  },
  {
   "cell_type": "code",
   "execution_count": 22,
   "id": "0d2db792",
   "metadata": {},
   "outputs": [
    {
     "name": "stdout",
     "output_type": "stream",
     "text": [
      "float branches:\n",
      "\tmcWeight\n",
      "\tscaleFactor_PILEUP\n",
      "\tscaleFactor_ELE\n",
      "\tscaleFactor_MUON\n",
      "\tscaleFactor_PHOTON\n",
      "\tscaleFactor_TAU\n",
      "\tscaleFactor_BTAG\n",
      "\tscaleFactor_LepTRIGGER\n",
      "\tscaleFactor_PhotonTRIGGER\n",
      "\tmet_et\n",
      "\tmet_phi\n",
      "\tditau_m\n",
      "\tmet_et_syst\n",
      "\tXSection\n",
      "\tSumWeights\n",
      "float vector branches:\n",
      "\tlep_pt\n",
      "\tlep_eta\n",
      "\tlep_phi\n",
      "\tlep_E\n",
      "\tlep_z0\n",
      "\tlep_ptcone30\n",
      "\tlep_etcone20\n",
      "\tlep_trackd0pvunbiased\n",
      "\tlep_tracksigd0pvunbiased\n",
      "\tjet_pt\n",
      "\tjet_eta\n",
      "\tjet_phi\n",
      "\tjet_E\n",
      "\tjet_jvt\n",
      "\tjet_MV2c10\n",
      "\tphoton_pt\n",
      "\tphoton_eta\n",
      "\tphoton_phi\n",
      "\tphoton_E\n",
      "\tphoton_ptcone30\n",
      "\tphoton_etcone20\n",
      "\ttau_pt\n",
      "\ttau_eta\n",
      "\ttau_phi\n",
      "\ttau_E\n",
      "\ttau_BDTid\n",
      "\tlep_pt_syst\n",
      "\tjet_pt_syst\n",
      "\tphoton_pt_syst\n",
      "\ttau_pt_syst\n",
      "\tlargeRjet_pt\n",
      "\tlargeRjet_eta\n",
      "\tlargeRjet_phi\n",
      "\tlargeRjet_E\n",
      "\tlargeRjet_m\n",
      "\tlargeRjet_truthMatched\n",
      "\tlargeRjet_D2\n",
      "\tlargeRjet_tau32\n",
      "\tlargeRjet_pt_syst\n"
     ]
    }
   ],
   "source": [
    "float_vector_branches = []\n",
    "float_branches = []\n",
    "\n",
    "for branch in tree.keys():\n",
    "    branch_arr = tree[branch].array()\n",
    "    \n",
    "    if branch_arr.ndim > 1:\n",
    "        branch_arr = ak.flatten(branch_arr)\n",
    "        if 'float32' in branch_arr.typestr:\n",
    "            float_vector_branches.append(branch)\n",
    "    else:\n",
    "        if 'float32' in branch_arr.typestr:\n",
    "            float_branches.append(branch)\n",
    "            \n",
    "print('float branches:')\n",
    "for branch in float_branches:\n",
    "    print(f'\\t{branch}')\n",
    "    \n",
    "print('float vector branches:')\n",
    "for branch in float_vector_branches:\n",
    "    print(f'\\t{branch}')\n",
    "        "
   ]
  },
  {
   "cell_type": "code",
   "execution_count": null,
   "id": "fce3a441",
   "metadata": {},
   "outputs": [
    {
     "name": "stdout",
     "output_type": "stream",
     "text": [
      "runNumber: int32, 53653 * int32\n",
      "eventNumber: int32, 53653 * int32\n",
      "channelNumber: int32, 53653 * int32\n",
      "mcWeight: float32, 53653 * float32\n",
      "scaleFactor_PILEUP: float32, 53653 * float32\n",
      "scaleFactor_ELE: float32, 53653 * float32\n",
      "scaleFactor_MUON: float32, 53653 * float32\n",
      "scaleFactor_PHOTON: float32, 53653 * float32\n",
      "scaleFactor_TAU: float32, 53653 * float32\n",
      "scaleFactor_BTAG: float32, 53653 * float32\n",
      "scaleFactor_LepTRIGGER: float32, 53653 * float32\n",
      "scaleFactor_PhotonTRIGGER: float32, 53653 * float32\n",
      "trigE: bool, 53653 * bool\n",
      "trigM: bool, 53653 * bool\n",
      "trigP: bool, 53653 * bool\n",
      "lep_n: uint32, 53653 * uint32\n",
      "lep_truthMatched: bool, 92664 * bool\n",
      "lep_trigMatched: bool, 92664 * bool\n",
      "lep_pt: float32, 92664 * float32\n",
      "lep_eta: float32, 92664 * float32\n",
      "lep_phi: float32, 92664 * float32\n",
      "lep_E: float32, 92664 * float32\n",
      "lep_z0: float32, 92664 * float32\n",
      "lep_charge: int32, 92664 * int32\n",
      "lep_type: uint32, 92664 * uint32\n",
      "lep_isTightID: bool, 92664 * bool\n",
      "lep_ptcone30: float32, 92664 * float32\n",
      "lep_etcone20: float32, 92664 * float32\n",
      "lep_trackd0pvunbiased: float32, 92664 * float32\n",
      "lep_tracksigd0pvunbiased: float32, 92664 * float32\n",
      "met_et: float32, 53653 * float32\n",
      "met_phi: float32, 53653 * float32\n",
      "jet_n: uint32, 53653 * uint32\n",
      "jet_pt: float32, 133834 * float32\n",
      "jet_eta: float32, 133834 * float32\n",
      "jet_phi: float32, 133834 * float32\n",
      "jet_E: float32, 133834 * float32\n",
      "jet_jvt: float32, 133834 * float32\n",
      "jet_trueflav: int32, 133834 * int32\n",
      "jet_truthMatched: bool, 133834 * bool\n",
      "jet_MV2c10: float32, 133834 * float32\n",
      "photon_n: uint32, 53653 * uint32\n",
      "photon_truthMatched: bool, 0 * bool\n",
      "photon_trigMatched: bool, 0 * bool\n",
      "photon_pt: float32, 0 * float32\n",
      "photon_eta: float32, 0 * float32\n",
      "photon_phi: float32, 0 * float32\n",
      "photon_E: float32, 0 * float32\n",
      "photon_isTightID: bool, 0 * bool\n",
      "photon_ptcone30: float32, 0 * float32\n",
      "photon_etcone20: float32, 0 * float32\n",
      "photon_convType: int32, 0 * int32\n",
      "tau_n: uint32, 53653 * uint32\n",
      "tau_pt: float32, 0 * float32\n",
      "tau_eta: float32, 0 * float32\n",
      "tau_phi: float32, 0 * float32\n",
      "tau_E: float32, 0 * float32\n",
      "tau_isTightID: bool, 0 * bool\n",
      "tau_truthMatched: bool, 0 * bool\n",
      "tau_trigMatched: bool, 0 * bool\n",
      "tau_nTracks: int32, 0 * int32\n",
      "tau_BDTid: float32, 0 * float32\n",
      "ditau_m: float32, 53653 * float32\n",
      "lep_pt_syst: float32, 92664 * float32\n",
      "met_et_syst: float32, 53653 * float32\n",
      "jet_pt_syst: float32, 133834 * float32\n",
      "photon_pt_syst: float32, 0 * float32\n",
      "tau_pt_syst: float32, 0 * float32\n",
      "XSection: float32, 53653 * float32\n",
      "SumWeights: float32, 53653 * float32\n",
      "largeRjet_n: uint32, 53653 * uint32\n",
      "largeRjet_pt: float32, 78275 * float32\n",
      "largeRjet_eta: float32, 78275 * float32\n",
      "largeRjet_phi: float32, 78275 * float32\n",
      "largeRjet_E: float32, 78275 * float32\n",
      "largeRjet_m: float32, 78275 * float32\n",
      "largeRjet_truthMatched: float32, 78275 * float32\n",
      "largeRjet_D2: float32, 78275 * float32\n",
      "largeRjet_tau32: float32, 78275 * float32\n",
      "largeRjet_pt_syst: float32, 78275 * float32\n",
      "tau_charge: int32, 0 * int32\n",
      "\n",
      "Found 54 float branches\n"
     ]
    }
   ],
   "source": [
    "float_branches = []\n",
    "for branch in tree.keys():\n",
    "    branch_arr = tree[branch].array()\n",
    "    \n",
    "    if branch_arr.ndim > 1:\n",
    "        branch_arr = ak.flatten(branch_arr)\n",
    "        \n",
    "    print(f'{branch}: {branch_arr.type.content}, {branch_arr.typestr}')\n",
    "\n",
    "    if 'float32' in branch_arr.typestr or 'float64' in branch_arr.typestr:\n",
    "        float_branches.append(branch)\n",
    "\n",
    "print(f'\\nFound {len(float_branches)} float branches')"
   ]
  },
  {
   "cell_type": "markdown",
   "id": "8c0148c5",
   "metadata": {},
   "source": [
    "# Group float branches"
   ]
  },
  {
   "cell_type": "code",
   "execution_count": 7,
   "id": "8c3ba84c",
   "metadata": {},
   "outputs": [
    {
     "name": "stdout",
     "output_type": "stream",
     "text": [
      "\n",
      "Scale factors: ['scaleFactor_BTAG', 'scaleFactor_ELE', 'scaleFactor_LepTRIGGER', 'scaleFactor_MUON', 'scaleFactor_PHOTON', 'scaleFactor_PILEUP', 'scaleFactor_PhotonTRIGGER', 'scaleFactor_TAU']\n",
      "\n",
      "Leptons: ['lep_E', 'lep_eta', 'lep_etcone20', 'lep_phi', 'lep_pt', 'lep_pt_syst', 'lep_ptcone30', 'lep_trackd0pvunbiased', 'lep_tracksigd0pvunbiased', 'lep_z0']\n",
      "\n",
      "Large R jets: ['largeRjet_D2', 'largeRjet_E', 'largeRjet_eta', 'largeRjet_m', 'largeRjet_phi', 'largeRjet_pt', 'largeRjet_pt_syst', 'largeRjet_tau32', 'largeRjet_truthMatched']\n",
      "\n",
      "Jets: ['jet_E', 'jet_MV2c10', 'jet_eta', 'jet_jvt', 'jet_phi', 'jet_pt', 'jet_pt_syst']\n",
      "\n",
      "MET: ['met_et', 'met_et_syst', 'met_phi']\n",
      "\n",
      "Photons: ['photon_E', 'photon_eta', 'photon_etcone20', 'photon_phi', 'photon_pt', 'photon_pt_syst', 'photon_ptcone30']\n",
      "\n",
      "Taus: ['ditau_m', 'tau_BDTid', 'tau_E', 'tau_eta', 'tau_phi', 'tau_pt', 'tau_pt_syst']\n",
      "\n",
      "Other: ['SumWeights', 'XSection', 'mcWeight']\n"
     ]
    }
   ],
   "source": [
    "scale_factors = set()\n",
    "leps = set()\n",
    "largeRjets = set()\n",
    "jets = set()\n",
    "mets = set()\n",
    "photons = set()\n",
    "taus = set()\n",
    "other = set()\n",
    "\n",
    "for branch in float_branches:\n",
    "    if 'scaleFactor' in branch:\n",
    "        scale_factors.add(branch)\n",
    "    elif 'lep' in branch:\n",
    "        leps.add(branch)\n",
    "    elif 'largeRjet' in branch:\n",
    "        largeRjets.add(branch)\n",
    "    elif 'jet' in branch:\n",
    "        jets.add(branch)\n",
    "    elif 'met' in branch:\n",
    "        mets.add(branch)\n",
    "    elif 'photon' in branch:\n",
    "        photons.add(branch)\n",
    "    elif 'tau' in branch:\n",
    "        taus.add(branch)\n",
    "    else:\n",
    "        other.add(branch)\n",
    "\n",
    "# Sort the sets\n",
    "scale_factors = sorted(scale_factors)\n",
    "leps = sorted(leps)\n",
    "largeRjets = sorted(largeRjets)\n",
    "jets = sorted(jets)\n",
    "mets = sorted(mets)\n",
    "photons = sorted(photons)\n",
    "taus = sorted(taus)\n",
    "other = sorted(other)\n",
    "\n",
    "print(f'\\nScale factors: {scale_factors}')\n",
    "print(f'\\nLeptons: {leps}')\n",
    "print(f'\\nLarge R jets: {largeRjets}')\n",
    "print(f'\\nJets: {jets}')\n",
    "print(f'\\nMET: {mets}')\n",
    "print(f'\\nPhotons: {photons}')\n",
    "print(f'\\nTaus: {taus}')\n",
    "print(f'\\nOther: {other}')"
   ]
  },
  {
   "cell_type": "markdown",
   "id": "8c14695e",
   "metadata": {},
   "source": [
    "# Branch values"
   ]
  },
  {
   "cell_type": "code",
   "execution_count": 8,
   "id": "5539400e",
   "metadata": {},
   "outputs": [],
   "source": [
    "def print_unique_values(branches):\n",
    "    for branch in branches:\n",
    "        branch_arr = tree[branch].array()\n",
    "        if branch_arr.ndim > 1:\n",
    "            branch_arr = ak.flatten(branch_arr)\n",
    "\n",
    "        print(f'{branch}: {np.unique(branch_arr)}')"
   ]
  },
  {
   "cell_type": "markdown",
   "id": "3b950201",
   "metadata": {},
   "source": [
    "## Scale factors"
   ]
  },
  {
   "cell_type": "code",
   "execution_count": 9,
   "id": "180657ba",
   "metadata": {},
   "outputs": [
    {
     "name": "stdout",
     "output_type": "stream",
     "text": [
      "scaleFactor_BTAG: [0.836, 0.839, 0.841, 0.842, 0.843, 0.843, ..., 1.68, 1.68, 1.68, 1.72, 1.75]\n",
      "scaleFactor_ELE: [0.712, 0.717, 0.717, 0.725, 0.725, 0.73, ..., 1.08, 1.09, 1.09, 1.1, 1.1, 1.11]\n",
      "scaleFactor_LepTRIGGER: [0, 0.704, 0.739, 0.83, 0.832, 0.84, ..., 1.04, 1.04, 1.05, 1.06, 1.07, 1.21]\n",
      "scaleFactor_MUON: [0.825, 0.839, 0.965, 0.972, 0.977, 0.983, ..., 1.01, 1.01, 1.01, 1.02, 1.03]\n",
      "scaleFactor_PHOTON: [1]\n",
      "scaleFactor_PILEUP: [0, 0.00134, 0.00183, 0.00221, 0.00279, ..., 1.26, 1.32, 1.55, 1.75, 3.35]\n",
      "scaleFactor_PhotonTRIGGER: [1]\n",
      "scaleFactor_TAU: [1]\n"
     ]
    }
   ],
   "source": [
    "print_unique_values(scale_factors)"
   ]
  },
  {
   "cell_type": "markdown",
   "id": "fdc0ceff",
   "metadata": {},
   "source": [
    "## Leptons"
   ]
  },
  {
   "cell_type": "code",
   "execution_count": 10,
   "id": "c4ec951b",
   "metadata": {},
   "outputs": [
    {
     "name": "stdout",
     "output_type": "stream",
     "text": [
      "lep_E: [7.05e+03, 7.06e+03, 7.07e+03, 7.09e+03, ..., 2.89e+06, 3.19e+06, 3.48e+06]\n",
      "lep_eta: [-2.55, -2.53, -2.47, -2.47, -2.47, -2.47, ..., 2.53, 2.58, 2.64, 2.66, 2.68]\n",
      "lep_etcone20: [-1.53e+04, -1.09e+04, -8.77e+03, -7.59e+03, ..., 2.91e+04, 3.19e+04, 4.32e+04]\n",
      "lep_phi: [-3.14, -3.14, -3.14, -3.14, -3.14, -3.14, ..., 3.14, 3.14, 3.14, 3.14, 3.14]\n",
      "lep_pt: [7e+03, 7.01e+03, 7.01e+03, 7.02e+03, ..., 1.28e+06, 1.47e+06, 2.02e+06]\n",
      "lep_pt_syst: [4.92, 8.15, 10.4, 11.2, 11.2, ..., 3.62e+05, 4e+05, 4.03e+05, 6.73e+05]\n",
      "lep_ptcone30: [0, 1e+03, 1e+03, 1e+03, 1e+03, ..., 1.12e+06, 1.27e+06, 1.32e+06, 2.03e+06]\n",
      "lep_trackd0pvunbiased: [-6.98, -6.61, -6.22, -5.66, -5.26, -4.94, ..., 5.8, 6.3, 6.39, 6.68, 6.84]\n",
      "lep_tracksigd0pvunbiased: [3.01e-05, 7.88e-05, 9.72e-05, 0.000135, 0.000153, ..., 205, 222, 250, 268, 371]\n",
      "lep_z0: [-190, -187, -187, -186, -186, -180, -176, ..., 204, 206, 231, 232, 249, 253]\n"
     ]
    }
   ],
   "source": [
    "print_unique_values(leps)"
   ]
  },
  {
   "cell_type": "markdown",
   "id": "b640db70",
   "metadata": {},
   "source": [
    "## Large R Jet"
   ]
  },
  {
   "cell_type": "code",
   "execution_count": 11,
   "id": "0a1a1c27",
   "metadata": {},
   "outputs": [
    {
     "name": "stdout",
     "output_type": "stream",
     "text": [
      "largeRjet_D2: [0, 2.96e-05, 5.24e-05, 6.8e-05, 8.08e-05, ..., 300, 305, 316, 356, 445]\n",
      "largeRjet_E: [2.5e+05, 2.5e+05, 2.51e+05, 2.51e+05, ..., 3.96e+06, 4.38e+06, 5.02e+06]\n",
      "largeRjet_eta: [-2, -2, -2, -2, -2, -2, -2, -2, -2, -2, -2, ..., 2, 2, 2, 2, 2, 2, 2, 2, 2, 2]\n",
      "largeRjet_m: [-0.0271, -0.0221, -0.0191, -0.0175, ..., 4e+05, 4.17e+05, 4.19e+05, 5.26e+05]\n",
      "largeRjet_phi: [-3.14, -3.14, -3.14, -3.14, -3.14, -3.14, ..., 3.14, 3.14, 3.14, 3.14, 3.14]\n",
      "largeRjet_pt: [2.5e+05, 2.5e+05, 2.5e+05, 2.5e+05, ..., 1.9e+06, 2.08e+06, 2.4e+06, 2.51e+06]\n",
      "largeRjet_pt_syst: [0, 2.5, 2.91, 3.53, 3.69, ..., 1.42e+05, 1.65e+05, 1.84e+05, 3.74e+05]\n",
      "largeRjet_tau32: [-1, 6.9e-05, 8.39e-05, 0.000161, 0.000212, ..., 0.907, 0.908, 0.909, 0.915]\n",
      "largeRjet_truthMatched: [0, 1]\n"
     ]
    }
   ],
   "source": [
    "print_unique_values(largeRjets)"
   ]
  },
  {
   "cell_type": "markdown",
   "id": "ebeb46a9",
   "metadata": {},
   "source": [
    "## Jets"
   ]
  },
  {
   "cell_type": "code",
   "execution_count": 12,
   "id": "6e5d6641",
   "metadata": {},
   "outputs": [
    {
     "name": "stdout",
     "output_type": "stream",
     "text": [
      "jet_E: [2.02e+04, 2.03e+04, 2.03e+04, 2.03e+04, ..., 4.09e+06, 4.19e+06, 5.28e+06]\n",
      "jet_MV2c10: [-0.999, -0.999, -0.999, -0.999, -0.999, -0.999, -0.999, ..., 1, 1, 1, 1, 1, 1]\n",
      "jet_eta: [-2.5, -2.5, -2.5, -2.5, -2.5, -2.5, -2.5, ..., 2.5, 2.5, 2.5, 2.5, 2.5, 2.5]\n",
      "jet_jvt: [-0.1, 0, 7.56e-06, 2.17e-05, 2.32e-05, 2.36e-05, ..., 1, 1, 1, 1, 1, 1]\n",
      "jet_phi: [-3.14, -3.14, -3.14, -3.14, -3.14, -3.14, ..., 3.14, 3.14, 3.14, 3.14, 3.14]\n",
      "jet_pt: [2e+04, 2e+04, 2e+04, 2e+04, 2e+04, ..., 2.01e+06, 2.18e+06, 2.4e+06, 2.48e+06]\n",
      "jet_pt_syst: [0, 131, 132, 132, 133, ..., 1.34e+05, 1.53e+05, 1.7e+05, 2.25e+05, 2.84e+05]\n"
     ]
    }
   ],
   "source": [
    "print_unique_values(jets)"
   ]
  },
  {
   "cell_type": "markdown",
   "id": "672d1796",
   "metadata": {},
   "source": [
    "## MET"
   ]
  },
  {
   "cell_type": "code",
   "execution_count": 13,
   "id": "369fd015",
   "metadata": {},
   "outputs": [
    {
     "name": "stdout",
     "output_type": "stream",
     "text": [
      "met_et: [81.8, 224, 234, 281, 300, ..., 5.34e+05, 8.42e+05, 8.71e+05, 1.99e+06]\n",
      "met_et_syst: [0, 0.0332, 0.153, 0.172, 0.383, ..., 7.5e+04, 7.62e+04, 7.65e+04, 9.12e+04]\n",
      "met_phi: [-3.14, -3.14, -3.14, -3.14, -3.14, -3.14, ..., 3.14, 3.14, 3.14, 3.14, 3.14]\n"
     ]
    }
   ],
   "source": [
    "print_unique_values(mets)"
   ]
  },
  {
   "cell_type": "markdown",
   "id": "2e5e574a",
   "metadata": {},
   "source": [
    "## Photons"
   ]
  },
  {
   "cell_type": "code",
   "execution_count": 14,
   "id": "08af1769",
   "metadata": {},
   "outputs": [
    {
     "name": "stdout",
     "output_type": "stream",
     "text": [
      "photon_E: []\n",
      "photon_eta: []\n",
      "photon_etcone20: []\n",
      "photon_phi: []\n",
      "photon_pt: []\n",
      "photon_pt_syst: []\n",
      "photon_ptcone30: []\n"
     ]
    }
   ],
   "source": [
    "print_unique_values(photons)"
   ]
  },
  {
   "cell_type": "markdown",
   "id": "6545e929",
   "metadata": {},
   "source": [
    "## Taus"
   ]
  },
  {
   "cell_type": "code",
   "execution_count": 15,
   "id": "75f5c188",
   "metadata": {},
   "outputs": [
    {
     "name": "stdout",
     "output_type": "stream",
     "text": [
      "ditau_m: [0]\n",
      "tau_BDTid: []\n",
      "tau_E: []\n",
      "tau_eta: []\n",
      "tau_phi: []\n",
      "tau_pt: []\n",
      "tau_pt_syst: []\n"
     ]
    }
   ],
   "source": [
    "print_unique_values(taus)"
   ]
  },
  {
   "cell_type": "markdown",
   "id": "39a71694",
   "metadata": {},
   "source": [
    "## Other"
   ]
  },
  {
   "cell_type": "code",
   "execution_count": 16,
   "id": "250f0296",
   "metadata": {},
   "outputs": [
    {
     "name": "stdout",
     "output_type": "stream",
     "text": [
      "SumWeights: [1.5e+11]\n",
      "XSection: [1.95e+03]\n",
      "mcWeight: [-1.94e+03, -1.94e+03, -1.94e+03, -1.94e+03, ..., 1.94e+03, 1.94e+03, 1.94e+03]\n"
     ]
    }
   ],
   "source": [
    "print_unique_values(other)"
   ]
  },
  {
   "cell_type": "markdown",
   "id": "854287b6",
   "metadata": {},
   "source": [
    "# Final selection of branches"
   ]
  },
  {
   "cell_type": "code",
   "execution_count": null,
   "id": "c35cfcdf",
   "metadata": {},
   "outputs": [],
   "source": [
    "final_branches = [\n",
    "    'jet_E',\n",
    "    'jet_eta',\n",
    "    'jet_jvt',\n",
    "    'jet_MV2c10',\n",
    "    'jet_phi',\n",
    "    'jet_pt_syst',\n",
    "    'jet_pt',\n",
    "    'largeRjet_D2',\n",
    "    'largeRjet_E',\n",
    "    'largeRjet_eta',\n",
    "    'largeRjet_m',\n",
    "    'largeRjet_phi',\n",
    "    'largeRjet_pt_syst',\n",
    "    'largeRjet_pt',\n",
    "    'largeRjet_tau32',\n",
    "    'lep_E',\n",
    "    'lep_eta',\n",
    "    'lep_etcone20',\n",
    "    'lep_phi',\n",
    "    'lep_pt_syst',\n",
    "    'lep_pt',\n",
    "    'lep_ptcone30',\n",
    "    'lep_trackd0pvunbiased',\n",
    "    'lep_tracksigd0pvunbiased',\n",
    "    'lep_z0',\n",
    "    'mcWeight'\n",
    "    'met_et_syst',\n",
    "    'met_et',\n",
    "    'met_phi',\n",
    "    'scaleFactor_BTAG',\n",
    "    'scaleFactor_ELE',\n",
    "    'scaleFactor_LepTRIGGER',\n",
    "    'scaleFactor_MUON',\n",
    "    'scaleFactor_PILEUP',\n",
    "]"
   ]
  }
 ],
 "metadata": {
  "kernelspec": {
   "display_name": "env",
   "language": "python",
   "name": "python3"
  },
  "language_info": {
   "codemirror_mode": {
    "name": "ipython",
    "version": 3
   },
   "file_extension": ".py",
   "mimetype": "text/x-python",
   "name": "python",
   "nbconvert_exporter": "python",
   "pygments_lexer": "ipython3",
   "version": "3.13.3"
  }
 },
 "nbformat": 4,
 "nbformat_minor": 5
}
