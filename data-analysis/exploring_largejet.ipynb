{
 "cells": [
  {
   "cell_type": "code",
   "execution_count": null,
   "id": "055b06fb",
   "metadata": {},
   "outputs": [],
   "source": [
    "import uproot\n",
    "\n",
    "import numpy as np\n",
    "import awkward as ak\n",
    "\n",
    "import pandas as pd\n",
    "\n",
    "import plotly.express as px\n",
    "import plotly.graph_objects as go\n",
    "import plotly.io as pio"
   ]
  },
  {
   "cell_type": "markdown",
   "id": "276d6804",
   "metadata": {},
   "source": [
    "# File locations"
   ]
  },
  {
   "cell_type": "code",
   "execution_count": null,
   "id": "8a0c0478",
   "metadata": {},
   "outputs": [],
   "source": [
    "datadir = '/home/abyrnes/data'\n",
    "filepath = datadir + '/atlas/mc_361106.Zee.1largeRjet1lep.root'"
   ]
  },
  {
   "cell_type": "markdown",
   "id": "991bfe2a",
   "metadata": {},
   "source": [
    "# Tree listing"
   ]
  },
  {
   "cell_type": "code",
   "execution_count": null,
   "id": "466876ae",
   "metadata": {},
   "outputs": [],
   "source": [
    "tree = uproot.open(filepath)['mini']\n",
    "tree.show()"
   ]
  },
  {
   "cell_type": "markdown",
   "id": "6118c498",
   "metadata": {},
   "source": [
    "# Picking out branches with floats"
   ]
  },
  {
   "cell_type": "code",
   "execution_count": null,
   "id": "cc6fa15b",
   "metadata": {},
   "outputs": [],
   "source": [
    "# int32 branch\n",
    "print(tree['runNumber'].array().type.content)\n",
    "print(tree['runNumber'].array().ndim)"
   ]
  },
  {
   "cell_type": "code",
   "execution_count": null,
   "id": "a5137ad2",
   "metadata": {},
   "outputs": [],
   "source": [
    "# std::vector<float> branch\n",
    "print(tree['lep_pt_syst'].array().type.content)\n",
    "print(tree['lep_pt_syst'].array().type.content.content)\n",
    "print(tree['lep_pt_syst'].array().ndim)"
   ]
  },
  {
   "cell_type": "code",
   "execution_count": null,
   "id": "fce3a441",
   "metadata": {},
   "outputs": [],
   "source": [
    "float_branches = []\n",
    "for branch in tree.keys():\n",
    "    branch_arr = tree[branch].array()\n",
    "    \n",
    "    if branch_arr.ndim > 1:\n",
    "        branch_arr = ak.flatten(branch_arr)\n",
    "\n",
    "    print(f'{branch}: {branch_arr.type.content}, {branch_arr.typestr}')\n",
    "\n",
    "    if 'float32' in branch_arr.typestr or 'float64' in branch_arr.typestr:\n",
    "        float_branches.append(branch)\n",
    "\n",
    "print(f'\\nFound {len(float_branches)} float branches')"
   ]
  },
  {
   "cell_type": "markdown",
   "id": "8c0148c5",
   "metadata": {},
   "source": [
    "# Group float branches"
   ]
  },
  {
   "cell_type": "code",
   "execution_count": null,
   "id": "8c3ba84c",
   "metadata": {},
   "outputs": [],
   "source": [
    "scale_factors = set()\n",
    "leps = set()\n",
    "largeRjets = set()\n",
    "jets = set()\n",
    "mets = set()\n",
    "photons = set()\n",
    "taus = set()\n",
    "other = set()\n",
    "\n",
    "for branch in float_branches:\n",
    "    if 'scaleFactor' in branch:\n",
    "        scale_factors.add(branch)\n",
    "    elif 'lep' in branch:\n",
    "        leps.add(branch)\n",
    "    elif 'largeRjet' in branch:\n",
    "        largeRjets.add(branch)\n",
    "    elif 'jet' in branch:\n",
    "        jets.add(branch)\n",
    "    elif 'met' in branch:\n",
    "        mets.add(branch)\n",
    "    elif 'photon' in branch:\n",
    "        photons.add(branch)\n",
    "    elif 'tau' in branch:\n",
    "        taus.add(branch)\n",
    "    else:\n",
    "        other.add(branch)\n",
    "\n",
    "# Sort the sets\n",
    "scale_factors = sorted(scale_factors)\n",
    "leps = sorted(leps)\n",
    "largeRjets = sorted(largeRjets)\n",
    "jets = sorted(jets)\n",
    "mets = sorted(mets)\n",
    "photons = sorted(photons)\n",
    "taus = sorted(taus)\n",
    "other = sorted(other)\n",
    "\n",
    "print(f'\\nScale factors: {scale_factors}')\n",
    "print(f'\\nLeptons: {leps}')\n",
    "print(f'\\nLarge R jets: {largeRjets}')\n",
    "print(f'\\nJets: {jets}')\n",
    "print(f'\\nMET: {mets}')\n",
    "print(f'\\nPhotons: {photons}')\n",
    "print(f'\\nTaus: {taus}')\n",
    "print(f'\\nOther: {other}')"
   ]
  },
  {
   "cell_type": "markdown",
   "id": "8c14695e",
   "metadata": {},
   "source": [
    "# Branch values"
   ]
  },
  {
   "cell_type": "code",
   "execution_count": null,
   "id": "5ed86659",
   "metadata": {},
   "outputs": [],
   "source": [
    "def print_unique_values(branches):\n",
    "    for branch in branches:\n",
    "        branch_arr = tree[branch].array()\n",
    "        if branch_arr.ndim > 1:\n",
    "            branch_arr = ak.flatten(branch_arr)\n",
    "        unique_values = np.unique(branch_arr)\n",
    "        print(f'Unique values in {branch}: {unique_values}')"
   ]
  },
  {
   "cell_type": "markdown",
   "id": "3b950201",
   "metadata": {},
   "source": [
    "## Scale factors"
   ]
  },
  {
   "cell_type": "code",
   "execution_count": null,
   "id": "180657ba",
   "metadata": {},
   "outputs": [],
   "source": [
    "print_unique_values(scale_factors)"
   ]
  },
  {
   "cell_type": "markdown",
   "id": "fdc0ceff",
   "metadata": {},
   "source": [
    "## Leptons"
   ]
  },
  {
   "cell_type": "code",
   "execution_count": null,
   "id": "c4ec951b",
   "metadata": {},
   "outputs": [],
   "source": [
    "print_unique_values(leps)"
   ]
  },
  {
   "cell_type": "markdown",
   "id": "b640db70",
   "metadata": {},
   "source": [
    "## Large R Jet"
   ]
  },
  {
   "cell_type": "code",
   "execution_count": null,
   "id": "0a1a1c27",
   "metadata": {},
   "outputs": [],
   "source": [
    "print_unique_values(largeRjets)"
   ]
  },
  {
   "cell_type": "markdown",
   "id": "ebeb46a9",
   "metadata": {},
   "source": [
    "## Jets"
   ]
  },
  {
   "cell_type": "code",
   "execution_count": null,
   "id": "6e5d6641",
   "metadata": {},
   "outputs": [],
   "source": [
    "print_unique_values(jets)"
   ]
  },
  {
   "cell_type": "markdown",
   "id": "672d1796",
   "metadata": {},
   "source": [
    "## MET"
   ]
  },
  {
   "cell_type": "code",
   "execution_count": null,
   "id": "369fd015",
   "metadata": {},
   "outputs": [],
   "source": [
    "print_unique_values(mets)"
   ]
  },
  {
   "cell_type": "markdown",
   "id": "2e5e574a",
   "metadata": {},
   "source": [
    "## Photons"
   ]
  },
  {
   "cell_type": "code",
   "execution_count": null,
   "id": "08af1769",
   "metadata": {},
   "outputs": [],
   "source": [
    "print_unique_values(photons)"
   ]
  },
  {
   "cell_type": "markdown",
   "id": "6545e929",
   "metadata": {},
   "source": [
    "## Taus"
   ]
  },
  {
   "cell_type": "code",
   "execution_count": null,
   "id": "75f5c188",
   "metadata": {},
   "outputs": [],
   "source": [
    "print_unique_values(taus)"
   ]
  },
  {
   "cell_type": "markdown",
   "id": "39a71694",
   "metadata": {},
   "source": [
    "## Other"
   ]
  },
  {
   "cell_type": "code",
   "execution_count": null,
   "id": "250f0296",
   "metadata": {},
   "outputs": [],
   "source": [
    "print_unique_values(other)"
   ]
  },
  {
   "cell_type": "markdown",
   "id": "854287b6",
   "metadata": {},
   "source": [
    "# Final selection of branches"
   ]
  },
  {
   "cell_type": "code",
   "execution_count": null,
   "id": "c35cfcdf",
   "metadata": {},
   "outputs": [],
   "source": [
    "final_branches = [\n",
    "    'scaleFactor_BTAG',\n",
    "    'scaleFactor_ELE',\n",
    "    'scaleFactor_LepTRIGGER',\n",
    "    'scaleFactor_MUON',\n",
    "    'scaleFactor_PILEUP',\n",
    "    'lep_E',\n",
    "    'lep_eta',\n",
    "    'lep_etcone20',\n",
    "    'lep_phi',\n",
    "    'lep_pt',\n",
    "    'lep_pt_syst',\n",
    "    'lep_ptcone30',\n",
    "    'lep_trackd0pvunbiased',\n",
    "    'lep_tracksigd0pvunbiased',\n",
    "    'lep_z0',\n",
    "    'largeRjet_D2',\n",
    "    'largeRjet_E',\n",
    "    'largeRjet_eta',\n",
    "    'largeRjet_m',\n",
    "    'largeRjet_phi',\n",
    "    'largeRjet_pt',\n",
    "    'largeRjet_pt_syst',\n",
    "    'largeRjet_tau32',\n",
    "    'jet_E',\n",
    "    'jet_MV2c10',\n",
    "    'jet_eta',\n",
    "    'jet_jvt',\n",
    "    'jet_phi',\n",
    "    'jet_pt',\n",
    "    'jet_pt_syst',\n",
    "    'met_et',\n",
    "    'met_et_syst',\n",
    "    'met_phi',\n",
    "    'mcWeight'\n",
    "]"
   ]
  }
 ],
 "metadata": {
  "kernelspec": {
   "display_name": "env",
   "language": "python",
   "name": "python3"
  },
  "language_info": {
   "codemirror_mode": {
    "name": "ipython",
    "version": 3
   },
   "file_extension": ".py",
   "mimetype": "text/x-python",
   "name": "python",
   "nbconvert_exporter": "python",
   "pygments_lexer": "ipython3",
   "version": "3.13.3"
  }
 },
 "nbformat": 4,
 "nbformat_minor": 5
}
