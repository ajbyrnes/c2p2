{
 "cells": [
  {
   "cell_type": "code",
   "execution_count": null,
   "id": "d20ab3b1",
   "metadata": {},
   "outputs": [],
   "source": [
    "import uproot\n",
    "\n",
    "import numpy as np\n",
    "import awkward as ak\n",
    "\n",
    "import pandas as pd\n",
    "\n",
    "import plotly.express as px\n",
    "import plotly.graph_objects as go\n",
    "import plotly.io as pio"
   ]
  },
  {
   "cell_type": "code",
   "execution_count": null,
   "id": "0eb0e7b0",
   "metadata": {},
   "outputs": [],
   "source": [
    "datadir = '/home/abyrnes/data/atlas/'\n",
    "dataA = datadir + '4lep/data_A.4lep.root'\n",
    "dataB = datadir + '4lep/data_B.4lep.root'\n",
    "dataC = datadir + '4lep/data_C.4lep.root'\n",
    "dataD = datadir + '4lep/data_D.4lep.root'\n",
    "dataEx = datadir + 'hepdata-example.root'\n",
    "dataZmumu = datadir + 'Zmumu.root'"
   ]
  },
  {
   "cell_type": "code",
   "execution_count": null,
   "id": "60eae412",
   "metadata": {},
   "outputs": [],
   "source": [
    "treeA = uproot.open(dataA + ':mini')\n",
    "treeA"
   ]
  },
  {
   "cell_type": "code",
   "execution_count": null,
   "id": "89d7bdbb",
   "metadata": {},
   "outputs": [],
   "source": [
    "treeA.num_entries"
   ]
  },
  {
   "cell_type": "code",
   "execution_count": null,
   "id": "b8485928",
   "metadata": {},
   "outputs": [],
   "source": [
    "treeA.show()"
   ]
  },
  {
   "cell_type": "code",
   "execution_count": null,
   "id": "34f9f44c",
   "metadata": {},
   "outputs": [],
   "source": [
    "leps = treeA.arrays(['lep_pt', 'lep_eta', 'lep_phi', 'lep_E', 'lep_z0', 'lep_charge', 'lep_type'])\n",
    "leps"
   ]
  },
  {
   "cell_type": "code",
   "execution_count": null,
   "id": "14a805c9",
   "metadata": {},
   "outputs": [],
   "source": [
    "# Normalize leps values\n",
    "leps_normalized = ak.Array(leps)\n",
    "for field in ak.fields(leps):\n",
    "    leps_normalized[field] = leps[field] / ak.max(abs(leps[field]))  # Convert GeV to TeV\n",
    "    \n",
    "leps_normalized"
   ]
  },
  {
   "cell_type": "code",
   "execution_count": null,
   "id": "512250b4",
   "metadata": {},
   "outputs": [],
   "source": [
    "event_indices = [[val] * len(leps['lep_pt'][val]) for val in range(len(leps['lep_pt']))]\n",
    "x_vals = ak.flatten(event_indices).tolist()\n",
    "y_vals = ak.flatten(leps['lep_pt']).tolist()"
   ]
  },
  {
   "cell_type": "code",
   "execution_count": null,
   "id": "ee38d2aa",
   "metadata": {},
   "outputs": [],
   "source": [
    "event0_pt = leps['lep_pt'][0]\n",
    "event0_pt"
   ]
  },
  {
   "cell_type": "code",
   "execution_count": null,
   "id": "57fc5e21",
   "metadata": {},
   "outputs": [],
   "source": [
    "fig = go.Figure()\n",
    "\n",
    "for eventNum, pt in enumerate(leps_normalized['lep_pt']):\n",
    "    fig.add_trace(go.Scatter(\n",
    "        x=[eventNum] * len(pt),\n",
    "        y=pt,\n",
    "        mode='markers',\n",
    "        marker_color = px.colors.qualitative.Plotly[eventNum % 4],\n",
    "        marker=dict(\n",
    "            size=pt,\n",
    "            sizemin=5,\n",
    "            sizeref=2.0 * max(pt) / (6**2),\n",
    "            sizemode='diameter'\n",
    "\n",
    "        ),\n",
    "        name=f'Event {eventNum}'\n",
    "    ))\n",
    "    \n",
    "# Logaritihmic scale for y-axis\n",
    "fig.update_layout(\n",
    "    title='Lepton Pt per Event',\n",
    "    xaxis_title='Event Number',\n",
    "    yaxis_title='Lepton Pt',\n",
    "    showlegend=False\n",
    ")\n",
    "\n",
    "fig.show()"
   ]
  },
  {
   "cell_type": "code",
   "execution_count": null,
   "id": "ad69d147",
   "metadata": {},
   "outputs": [],
   "source": [
    "fig = go.Figure()\n",
    "\n",
    "for field in ak.fields(leps):\n",
    "    fig.add_trace(\n",
    "        go.Violin(\n",
    "            y=ak.flatten(leps_normalized[field]),\n",
    "            box_visible=True,\n",
    "            name=field\n",
    "        )\n",
    "    )\n",
    "    \n",
    "# y-axis log\n",
    "fig.update_layout(\n",
    "    title='Lepton Pt per Event',\n",
    "    yaxis_title='Lepton Pt',\n",
    ")\n",
    "    \n",
    "fig.show()"
   ]
  },
  {
   "cell_type": "code",
   "execution_count": null,
   "id": "9291de30",
   "metadata": {},
   "outputs": [],
   "source": [
    "fig = go.Figure()\n",
    "\n",
    "for field in ak.fields(leps):\n",
    "    fig.add_trace(\n",
    "        go.Violin(\n",
    "            y = ak.flatten(leps[field]),\n",
    "            name = field,\n",
    "            points = 'all',\n",
    "            jitter = 0.5,\n",
    "            box_visible = False,\n",
    "            meanline_visible = False,\n",
    "            marker = dict(\n",
    "                size = 5,\n",
    "                opacity = 0.5,\n",
    "                line = dict(width = 0.5, color = 'black')\n",
    "            )\n",
    "        )\n",
    "    )\n",
    "        \n",
    "fig.show()"
   ]
  },
  {
   "cell_type": "code",
   "execution_count": null,
   "id": "a3bc14c5",
   "metadata": {},
   "outputs": [],
   "source": [
    "for field in ak.fields(leps):\n",
    "    "
   ]
  },
  {
   "cell_type": "code",
   "execution_count": null,
   "id": "482e67a1",
   "metadata": {},
   "outputs": [],
   "source": [
    "fig = go.Figure()\n",
    "\n",
    "for field in ak.fields(leps):\n",
    "    fig.add_trace(\n",
    "        go.Violin(\n",
    "            x = ak.flatten(leps[field]),\n",
    "            name = field\n",
    "        )\n",
    "    )\n",
    "    \n",
    "fig.update_traces(\n",
    "    orientation = 'h',\n",
    "    side = 'positive',\n",
    "    width = 3,\n",
    "    points = False\n",
    ")\n",
    "\n",
    "fig.update_layout(\n",
    "    xaxis_showgrid=False,\n",
    "    xaxis_zeroline=False\n",
    ")\n",
    "    \n",
    "fig.show()"
   ]
  },
  {
   "cell_type": "code",
   "execution_count": null,
   "id": "90c26cc0",
   "metadata": {},
   "outputs": [],
   "source": [
    "fig = go.Figure()\n",
    "\n",
    "for field in ak.fields(leps):\n",
    "    fig.add_trace(\n",
    "        go.Box(\n",
    "            y=ak.flatten(leps_normalized[field]),\n",
    "            boxmean='sd',\n",
    "            name=field,\n",
    "            marker=dict(\n",
    "                size=5,\n",
    "            ),\n",
    "            line=dict(\n",
    "                width=2\n",
    "            )\n",
    "        )\n",
    "    )\n",
    "    \n",
    "# y-axis log\n",
    "fig.update_layout(\n",
    "    title='Lepton Pt per Event',\n",
    "    yaxis_title='Lepton Pt',\n",
    ")\n",
    "    \n",
    "fig.show()"
   ]
  },
  {
   "cell_type": "code",
   "execution_count": null,
   "id": "bb891923",
   "metadata": {},
   "outputs": [],
   "source": [
    "fig = go.Figure(data = [\n",
    "    go.Sunburst(\n",
    "        values = ak.flatten(leps['lep_pt']),\n",
    "        \n",
    "    )\n",
    "])\n",
    "\n",
    "fig.show()"
   ]
  }
 ],
 "metadata": {
  "kernelspec": {
   "display_name": "env",
   "language": "python",
   "name": "python3"
  },
  "language_info": {
   "codemirror_mode": {
    "name": "ipython",
    "version": 3
   },
   "file_extension": ".py",
   "mimetype": "text/x-python",
   "name": "python",
   "nbconvert_exporter": "python",
   "pygments_lexer": "ipython3",
   "version": "3.13.3"
  }
 },
 "nbformat": 4,
 "nbformat_minor": 5
}
